{
 "cells": [
  {
   "cell_type": "markdown",
   "metadata": {},
   "source": [
    "On my road trip, I kept track of (almost) all the money I spent. I was already fairly surprised with some of my [quick calculations](/2019/07/road-trip-stats) about how little I ended up spending (just around $4000!), and I also wanted to dive a bit more into how much I spent, where, and on what. So here we go!"
   ]
  },
  {
   "cell_type": "code",
   "execution_count": 1,
   "metadata": {},
   "outputs": [],
   "source": [
    "import pandas as pd\n",
    "import numpy as np\n",
    "\n",
    "import matplotlib.pyplot as plt\n",
    "import seaborn as sns\n",
    "%matplotlib inline"
   ]
  },
  {
   "cell_type": "markdown",
   "metadata": {},
   "source": [
    "## The data\n",
    "\n",
    "I tracked all my expenses in a notebook throughout my trip, and then entered them into an Excel spreadsheet."
   ]
  },
  {
   "cell_type": "code",
   "execution_count": 2,
   "metadata": {},
   "outputs": [
    {
     "data": {
      "text/html": [
       "<div>\n",
       "<style scoped>\n",
       "    .dataframe tbody tr th:only-of-type {\n",
       "        vertical-align: middle;\n",
       "    }\n",
       "\n",
       "    .dataframe tbody tr th {\n",
       "        vertical-align: top;\n",
       "    }\n",
       "\n",
       "    .dataframe thead th {\n",
       "        text-align: right;\n",
       "    }\n",
       "</style>\n",
       "<table border=\"1\" class=\"dataframe\">\n",
       "  <thead>\n",
       "    <tr style=\"text-align: right;\">\n",
       "      <th></th>\n",
       "      <th>date</th>\n",
       "      <th>item</th>\n",
       "      <th>price</th>\n",
       "      <th>category</th>\n",
       "      <th>ben_or_claire</th>\n",
       "    </tr>\n",
       "  </thead>\n",
       "  <tbody>\n",
       "    <tr>\n",
       "      <th>0</th>\n",
       "      <td>2019-02-17</td>\n",
       "      <td>gas</td>\n",
       "      <td>37.14</td>\n",
       "      <td>car</td>\n",
       "      <td>NaN</td>\n",
       "    </tr>\n",
       "    <tr>\n",
       "      <th>1</th>\n",
       "      <td>2019-02-17</td>\n",
       "      <td>sonic</td>\n",
       "      <td>4.90</td>\n",
       "      <td>food</td>\n",
       "      <td>NaN</td>\n",
       "    </tr>\n",
       "    <tr>\n",
       "      <th>2</th>\n",
       "      <td>2019-02-18</td>\n",
       "      <td>coffee</td>\n",
       "      <td>2.50</td>\n",
       "      <td>food</td>\n",
       "      <td>NaN</td>\n",
       "    </tr>\n",
       "    <tr>\n",
       "      <th>3</th>\n",
       "      <td>2019-02-18</td>\n",
       "      <td>lunch</td>\n",
       "      <td>12.00</td>\n",
       "      <td>food</td>\n",
       "      <td>NaN</td>\n",
       "    </tr>\n",
       "    <tr>\n",
       "      <th>4</th>\n",
       "      <td>2019-02-18</td>\n",
       "      <td>dinner tacos</td>\n",
       "      <td>8.15</td>\n",
       "      <td>food</td>\n",
       "      <td>NaN</td>\n",
       "    </tr>\n",
       "  </tbody>\n",
       "</table>\n",
       "</div>"
      ],
      "text/plain": [
       "        date          item  price category ben_or_claire\n",
       "0 2019-02-17           gas  37.14      car           NaN\n",
       "1 2019-02-17         sonic   4.90     food           NaN\n",
       "2 2019-02-18        coffee   2.50     food           NaN\n",
       "3 2019-02-18         lunch  12.00     food           NaN\n",
       "4 2019-02-18  dinner tacos   8.15     food           NaN"
      ]
     },
     "execution_count": 2,
     "metadata": {},
     "output_type": "execute_result"
    }
   ],
   "source": [
    "df = pd.read_excel('money.xlsx')\n",
    "# Last column just has some notes, but no data\n",
    "df = df.iloc[:, :5]\n",
    "df.head()"
   ]
  },
  {
   "cell_type": "markdown",
   "metadata": {},
   "source": [
    "I tracked the date, the expense, and the price. I also manually assigned each expense a \"category.\" And, for the parts of the trip where Ben joined me, I also tracked who paid for the expense. Unfortunately, I didn't do a great job of tracking expenses during these weekends, so I probably won't be able to dig into that split.\n",
    "\n",
    "Anyway, let's see how much I spent on each category:"
   ]
  },
  {
   "cell_type": "code",
   "execution_count": 3,
   "metadata": {},
   "outputs": [
    {
     "data": {
      "text/html": [
       "<div>\n",
       "<style scoped>\n",
       "    .dataframe tbody tr th:only-of-type {\n",
       "        vertical-align: middle;\n",
       "    }\n",
       "\n",
       "    .dataframe tbody tr th {\n",
       "        vertical-align: top;\n",
       "    }\n",
       "\n",
       "    .dataframe thead th {\n",
       "        text-align: right;\n",
       "    }\n",
       "</style>\n",
       "<table border=\"1\" class=\"dataframe\">\n",
       "  <thead>\n",
       "    <tr style=\"text-align: right;\">\n",
       "      <th></th>\n",
       "      <th>price</th>\n",
       "    </tr>\n",
       "    <tr>\n",
       "      <th>category</th>\n",
       "      <th></th>\n",
       "    </tr>\n",
       "  </thead>\n",
       "  <tbody>\n",
       "    <tr>\n",
       "      <th>car</th>\n",
       "      <td>1721.53</td>\n",
       "    </tr>\n",
       "    <tr>\n",
       "      <th>food</th>\n",
       "      <td>1235.75</td>\n",
       "    </tr>\n",
       "    <tr>\n",
       "      <th>gear</th>\n",
       "      <td>659.79</td>\n",
       "    </tr>\n",
       "    <tr>\n",
       "      <th>lodging</th>\n",
       "      <td>569.02</td>\n",
       "    </tr>\n",
       "    <tr>\n",
       "      <th>fun</th>\n",
       "      <td>382.89</td>\n",
       "    </tr>\n",
       "    <tr>\n",
       "      <th>dumb</th>\n",
       "      <td>134.01</td>\n",
       "    </tr>\n",
       "    <tr>\n",
       "      <th>postcards</th>\n",
       "      <td>83.06</td>\n",
       "    </tr>\n",
       "    <tr>\n",
       "      <th>misc</th>\n",
       "      <td>59.70</td>\n",
       "    </tr>\n",
       "    <tr>\n",
       "      <th>souvenirs</th>\n",
       "      <td>29.00</td>\n",
       "    </tr>\n",
       "  </tbody>\n",
       "</table>\n",
       "</div>"
      ],
      "text/plain": [
       "             price\n",
       "category          \n",
       "car        1721.53\n",
       "food       1235.75\n",
       "gear        659.79\n",
       "lodging     569.02\n",
       "fun         382.89\n",
       "dumb        134.01\n",
       "postcards    83.06\n",
       "misc         59.70\n",
       "souvenirs    29.00"
      ]
     },
     "execution_count": 3,
     "metadata": {},
     "output_type": "execute_result"
    }
   ],
   "source": [
    "(df.groupby('category')\n",
    "    .sum()\n",
    "    .sort_values(by='price', ascending=False)\n",
    "    #.plot(kind='bar', rot=45)\n",
    ")"
   ]
  },
  {
   "cell_type": "markdown",
   "metadata": {},
   "source": [
    "Okay, nothing super wild here: as expected, car and food-related expenses were the largest part. Gear also ended up being a lot, mostly because I had to buy most of my camping-related gear at the beginning of the trip (a worthy investment, I hope!) Interestingly, lodging was pretty high too -- but I'm guessing this has to do with the parts of the trip where Ben joined me, and we paid for AirBnBs.\n",
    "\n",
    "Let's look into a couple of the more dubious categories: \"dumb\" (this is when I locked myself out, I think), \"gear\" (which has a few confusing entries), \"misc\" (what does that even mean), and \"souvenirs\" (I think that was also only one purchase)."
   ]
  },
  {
   "cell_type": "code",
   "execution_count": 4,
   "metadata": {},
   "outputs": [
    {
     "data": {
      "text/html": [
       "<div>\n",
       "<style scoped>\n",
       "    .dataframe tbody tr th:only-of-type {\n",
       "        vertical-align: middle;\n",
       "    }\n",
       "\n",
       "    .dataframe tbody tr th {\n",
       "        vertical-align: top;\n",
       "    }\n",
       "\n",
       "    .dataframe thead th {\n",
       "        text-align: right;\n",
       "    }\n",
       "</style>\n",
       "<table border=\"1\" class=\"dataframe\">\n",
       "  <thead>\n",
       "    <tr style=\"text-align: right;\">\n",
       "      <th></th>\n",
       "      <th>date</th>\n",
       "      <th>item</th>\n",
       "      <th>price</th>\n",
       "      <th>category</th>\n",
       "      <th>ben_or_claire</th>\n",
       "    </tr>\n",
       "  </thead>\n",
       "  <tbody>\n",
       "    <tr>\n",
       "      <th>22</th>\n",
       "      <td>2019-02-25</td>\n",
       "      <td>phone repair</td>\n",
       "      <td>69.01</td>\n",
       "      <td>dumb</td>\n",
       "      <td>NaN</td>\n",
       "    </tr>\n",
       "    <tr>\n",
       "      <th>203</th>\n",
       "      <td>2019-04-27</td>\n",
       "      <td>car lockout</td>\n",
       "      <td>65.00</td>\n",
       "      <td>dumb</td>\n",
       "      <td>NaN</td>\n",
       "    </tr>\n",
       "    <tr>\n",
       "      <th>21</th>\n",
       "      <td>2019-02-25</td>\n",
       "      <td>rei</td>\n",
       "      <td>1.60</td>\n",
       "      <td>gear</td>\n",
       "      <td>NaN</td>\n",
       "    </tr>\n",
       "    <tr>\n",
       "      <th>37</th>\n",
       "      <td>2019-02-26</td>\n",
       "      <td>knife</td>\n",
       "      <td>8.09</td>\n",
       "      <td>gear</td>\n",
       "      <td>NaN</td>\n",
       "    </tr>\n",
       "    <tr>\n",
       "      <th>77</th>\n",
       "      <td>2019-04-17</td>\n",
       "      <td>propane</td>\n",
       "      <td>9.36</td>\n",
       "      <td>gear</td>\n",
       "      <td>NaN</td>\n",
       "    </tr>\n",
       "    <tr>\n",
       "      <th>131</th>\n",
       "      <td>2019-05-01</td>\n",
       "      <td>home depot</td>\n",
       "      <td>11.66</td>\n",
       "      <td>gear</td>\n",
       "      <td>NaN</td>\n",
       "    </tr>\n",
       "    <tr>\n",
       "      <th>172</th>\n",
       "      <td>2019-05-19</td>\n",
       "      <td>propane</td>\n",
       "      <td>6.38</td>\n",
       "      <td>gear</td>\n",
       "      <td>NaN</td>\n",
       "    </tr>\n",
       "    <tr>\n",
       "      <th>188</th>\n",
       "      <td>2019-05-24</td>\n",
       "      <td>rei</td>\n",
       "      <td>124.33</td>\n",
       "      <td>gear</td>\n",
       "      <td>NaN</td>\n",
       "    </tr>\n",
       "    <tr>\n",
       "      <th>204</th>\n",
       "      <td>2019-02-14</td>\n",
       "      <td>rei</td>\n",
       "      <td>352.40</td>\n",
       "      <td>gear</td>\n",
       "      <td>NaN</td>\n",
       "    </tr>\n",
       "    <tr>\n",
       "      <th>205</th>\n",
       "      <td>2019-02-16</td>\n",
       "      <td>rei (parents paid)</td>\n",
       "      <td>297.55</td>\n",
       "      <td>gear</td>\n",
       "      <td>NaN</td>\n",
       "    </tr>\n",
       "    <tr>\n",
       "      <th>206</th>\n",
       "      <td>2019-05-28</td>\n",
       "      <td>air mattress reimbursement</td>\n",
       "      <td>-151.58</td>\n",
       "      <td>gear</td>\n",
       "      <td>NaN</td>\n",
       "    </tr>\n",
       "    <tr>\n",
       "      <th>32</th>\n",
       "      <td>2019-02-26</td>\n",
       "      <td>haircut</td>\n",
       "      <td>50.00</td>\n",
       "      <td>misc</td>\n",
       "      <td>NaN</td>\n",
       "    </tr>\n",
       "    <tr>\n",
       "      <th>38</th>\n",
       "      <td>2019-02-26</td>\n",
       "      <td>cds/postcards</td>\n",
       "      <td>9.70</td>\n",
       "      <td>misc</td>\n",
       "      <td>NaN</td>\n",
       "    </tr>\n",
       "    <tr>\n",
       "      <th>95</th>\n",
       "      <td>2019-05-02</td>\n",
       "      <td>license plates</td>\n",
       "      <td>29.00</td>\n",
       "      <td>souvenirs</td>\n",
       "      <td>NaN</td>\n",
       "    </tr>\n",
       "  </tbody>\n",
       "</table>\n",
       "</div>"
      ],
      "text/plain": [
       "          date                        item   price   category ben_or_claire\n",
       "22  2019-02-25                phone repair   69.01       dumb           NaN\n",
       "203 2019-04-27                 car lockout   65.00       dumb           NaN\n",
       "21  2019-02-25                         rei    1.60       gear           NaN\n",
       "37  2019-02-26                       knife    8.09       gear           NaN\n",
       "77  2019-04-17                     propane    9.36       gear           NaN\n",
       "131 2019-05-01                  home depot   11.66       gear           NaN\n",
       "172 2019-05-19                     propane    6.38       gear           NaN\n",
       "188 2019-05-24                         rei  124.33       gear           NaN\n",
       "204 2019-02-14                         rei  352.40       gear           NaN\n",
       "205 2019-02-16          rei (parents paid)  297.55       gear           NaN\n",
       "206 2019-05-28  air mattress reimbursement -151.58       gear           NaN\n",
       "32  2019-02-26                     haircut   50.00       misc           NaN\n",
       "38  2019-02-26               cds/postcards    9.70       misc           NaN\n",
       "95  2019-05-02              license plates   29.00  souvenirs           NaN"
      ]
     },
     "execution_count": 4,
     "metadata": {},
     "output_type": "execute_result"
    }
   ],
   "source": [
    "check_cats = ['dumb', 'gear', 'misc', 'souvenirs']\n",
    "df.query('category == @check_cats').sort_values(by='category')"
   ]
  },
  {
   "cell_type": "markdown",
   "metadata": {},
   "source": [
    "Oh, right! Not only did I lock myself out of my car at the Grand Canyon, but I also broke my phone on the first part of my trip and had to fix it. Okay, we'll leave these two \"dumb\" expenses in.\n",
    "\n",
    "The gear category is a bit tough: I exchanged my air mattress a few times, and was eventually reimbursed for it, which explains the \"negative\" expense on 5/28. Also, my parents got me a lot of gear for the combination of Christmas, graduation, and my birthday -- that's the 2/16 trip for about $300. We'll leave that in here, though, since that's money that I was going to spend on this trip regardless. \n",
    "\n",
    "Like I thought, there's only one souvenir expense (oops lol). I'll just lump that into the \"misc\" category."
   ]
  },
  {
   "cell_type": "code",
   "execution_count": 5,
   "metadata": {},
   "outputs": [],
   "source": [
    "# Replace \"souvenir\" category with \"misc\"\n",
    "df['category'] = df['category'].replace('souvenirs', 'misc')"
   ]
  },
  {
   "cell_type": "markdown",
   "metadata": {},
   "source": [
    "## The road trip expenses\n",
    "\n",
    "Ok, now I'm ready to dive in. I'll first look only at the parts of the trip that I spent on my own, since when Ben was visiting we stayed in AirBnB's and went out a lot -- lots of fun, definitely a great way to spend time and money, but not the road trip I was planning or intending for. \n",
    "\n",
    "Let's look at how much I spent on each category during each part of the trip. I'll do a bit of pandas-fu to get the sum of all expenses in each category, one time for the whole dataset and one time just for the part where it was only me. \n",
    "\n",
    "Coding notes: I [just learned](https://pandas.pydata.org/pandas-docs/stable/getting_started/comparison/comparison_with_r.html) that you can use the `.assign()` to make a new column within a chain of pandas commands, like the R version of `mutate`. Cool!"
   ]
  },
  {
   "cell_type": "code",
   "execution_count": 6,
   "metadata": {},
   "outputs": [
    {
     "data": {
      "text/plain": [
       "<matplotlib.axes._subplots.AxesSubplot at 0x1a1a82b050>"
      ]
     },
     "execution_count": 6,
     "metadata": {},
     "output_type": "execute_result"
    },
    {
     "data": {
      "image/png": "[encoded data removed]",
      "text/plain": [
       "<Figure size 432x288 with 1 Axes>"
      ]
     },
     "metadata": {
      "needs_background": "light"
     },
     "output_type": "display_data"
    }
   ],
   "source": [
    "category_totals = pd.concat([\n",
    "    df.groupby('category').sum().assign(trip='all_expenses').reset_index(),\n",
    "    df[df['ben_or_claire'].isna()].groupby('category').sum().assign(trip='only_me').reset_index()\n",
    "])\n",
    "\n",
    "sns.barplot(data=category_totals, x='category', y='price', hue='trip')"
   ]
  },
  {
   "cell_type": "markdown",
   "metadata": {},
   "source": [
    "Hm, it's pretty hard to tell how much I spent on the part of the trip with Ben. Let's directly calculate the difference..."
   ]
  },
  {
   "cell_type": "code",
   "execution_count": 7,
   "metadata": {},
   "outputs": [
    {
     "data": {
      "text/plain": [
       "category\n",
       "car          120.85\n",
       "dumb           0.00\n",
       "food          92.34\n",
       "fun           50.00\n",
       "gear           0.00\n",
       "lodging      382.65\n",
       "misc           0.00\n",
       "postcards      0.00\n",
       "dtype: float64"
      ]
     },
     "execution_count": 7,
     "metadata": {},
     "output_type": "execute_result"
    }
   ],
   "source": [
    "# Convert tidy data to wide data so I can subtract columns\n",
    "wide_totals = category_totals.pivot(index='category', columns='trip', values='price')\n",
    "\n",
    "wide_totals['all_expenses'] - wide_totals['only_me']"
   ]
  },
  {
   "cell_type": "markdown",
   "metadata": {},
   "source": [
    "Hm. That's definitely not the whole picture. I'm pretty sure the food and fun expenses are way off, and that I spent way more than just \\\\$142 during the parts with Ben -- but that makes sense, given that I didn't really keep track of everything I spent during those days, let alone what Ben was spending. Also those parts involved much more alcohol and spontaneous purchases sooo... 😅\n",
    "\n",
    "I also don't fully remember how I entered the lodging bills -- sometimes I think I put down the full cost (like when I paid for our AirBnBs on the first part of the trip), but other times I only put down my part (especially when Ben paid).  \n",
    "\n",
    "Anyway, no need to dive into this because I *know* I have incomplete data. Let's move on with analyzing just the road trip part where I was alone! That said, I'll keep any car expenses that I encountered during our joint trip, because I would have needed to pay those anyway. I'll remove any food we split because that's just too complicated..."
   ]
  },
  {
   "cell_type": "code",
   "execution_count": 245,
   "metadata": {},
   "outputs": [
    {
     "data": {
      "text/plain": [
       "4349.76"
      ]
     },
     "execution_count": 245,
     "metadata": {},
     "output_type": "execute_result"
    }
   ],
   "source": [
    "# Keep only rows without anything in the ben/claire column,\n",
    "# and keep all rows with the \"car\" category\n",
    "df = df[ (df['category'] == \"car\") | (df['ben_or_claire'].isna()) ]\n",
    "\n",
    "df['price'].sum()"
   ]
  },
  {
   "cell_type": "markdown",
   "metadata": {},
   "source": [
    "Ok, so after all this cleaning and manipulation the total amount I spent looks a little different than what I [posted previously](/2019/07/road-trip-stats), but basically the same: on my ~3 month road trip, I spent about $4300!\n",
    "\n",
    "I have a lot of questions that I could answer by combining this data with my other mileage and lodging datasets, but for now let's see what questions we can answer just from this data alone.\n",
    "\n",
    "### Daily expenses\n",
    "\n",
    "If we divide that by the total number of days I was on this trip for (105), that gives us an estimate of the daily cost* of my cross-country road trip!\n",
    "\n",
    "_\\*Of course, that's recognizing that there's a couple of high-expense weekends missing in this average, which would have been replaced by camping or crashing with friends -- so the daily average for a pure road trip should be a little higher than this._"
   ]
  },
  {
   "cell_type": "code",
   "execution_count": 8,
   "metadata": {},
   "outputs": [
    {
     "data": {
      "text/html": [
       "<div>\n",
       "<style scoped>\n",
       "    .dataframe tbody tr th:only-of-type {\n",
       "        vertical-align: middle;\n",
       "    }\n",
       "\n",
       "    .dataframe tbody tr th {\n",
       "        vertical-align: top;\n",
       "    }\n",
       "\n",
       "    .dataframe thead th {\n",
       "        text-align: right;\n",
       "    }\n",
       "</style>\n",
       "<table border=\"1\" class=\"dataframe\">\n",
       "  <thead>\n",
       "    <tr style=\"text-align: right;\">\n",
       "      <th></th>\n",
       "      <th>price</th>\n",
       "    </tr>\n",
       "    <tr>\n",
       "      <th>category</th>\n",
       "      <th></th>\n",
       "    </tr>\n",
       "  </thead>\n",
       "  <tbody>\n",
       "    <tr>\n",
       "      <th>car</th>\n",
       "      <td>16.395524</td>\n",
       "    </tr>\n",
       "    <tr>\n",
       "      <th>food</th>\n",
       "      <td>11.769048</td>\n",
       "    </tr>\n",
       "    <tr>\n",
       "      <th>gear</th>\n",
       "      <td>6.283714</td>\n",
       "    </tr>\n",
       "    <tr>\n",
       "      <th>lodging</th>\n",
       "      <td>5.419238</td>\n",
       "    </tr>\n",
       "    <tr>\n",
       "      <th>fun</th>\n",
       "      <td>3.646571</td>\n",
       "    </tr>\n",
       "    <tr>\n",
       "      <th>dumb</th>\n",
       "      <td>1.276286</td>\n",
       "    </tr>\n",
       "    <tr>\n",
       "      <th>misc</th>\n",
       "      <td>0.844762</td>\n",
       "    </tr>\n",
       "    <tr>\n",
       "      <th>postcards</th>\n",
       "      <td>0.791048</td>\n",
       "    </tr>\n",
       "  </tbody>\n",
       "</table>\n",
       "</div>"
      ],
      "text/plain": [
       "               price\n",
       "category            \n",
       "car        16.395524\n",
       "food       11.769048\n",
       "gear        6.283714\n",
       "lodging     5.419238\n",
       "fun         3.646571\n",
       "dumb        1.276286\n",
       "misc        0.844762\n",
       "postcards   0.791048"
      ]
     },
     "execution_count": 8,
     "metadata": {},
     "output_type": "execute_result"
    }
   ],
   "source": [
    "df.groupby('category').sum().sort_values(by='price', ascending=False) / 105"
   ]
  },
  {
   "cell_type": "markdown",
   "metadata": {},
   "source": [
    "Hah! Glad to see my \"dumb\" mistakes averaged out to only costing me a little over a dollar a day! 😆 And not bad -- only $12 per day for food and $21 total for transportation and lodging. Also, I'll note that the daily gear cost will keep doing as time passes, since I own that stuff forever now!\n",
    "\n",
    "Ok, that said we all know that the average isn't necessarily that informative. Especially on this trip, I think I tended to spend a lot of money for a few days and then go to the wilderness for a few days and not spend anything at all. Let's see if this impression is correct. "
   ]
  },
  {
   "cell_type": "code",
   "execution_count": 9,
   "metadata": {},
   "outputs": [
    {
     "data": {
      "text/plain": [
       "<matplotlib.axes._subplots.AxesSubplot at 0x1a1ab9e910>"
      ]
     },
     "execution_count": 9,
     "metadata": {},
     "output_type": "execute_result"
    },
    {
     "data": {
      "image/png": "[encoded data removed]",
      "text/plain": [
       "<Figure size 432x288 with 1 Axes>"
      ]
     },
     "metadata": {
      "needs_background": "light"
     },
     "output_type": "display_data"
    }
   ],
   "source": [
    "df.groupby('date').sum().plot(kind='hist', bins=20)"
   ]
  },
  {
   "cell_type": "markdown",
   "metadata": {},
   "source": [
    "At first, this histogram surprised me because there seem to be so _few_ days where I spent zero money. But actually, this data doesn't include those days! So this histogram just shows the money I spent, on days when I spent _some_ money.\n",
    "\n",
    "Also, note that the one negative value is the day I got reimbursed for the sleeping pad I returned. It had sprung a leak twice, and the second time I went to REI to exchange it they told me I couldn't do that without being flagged in the system, so I had to return it. I also spent some money buying a new pad that same day, but the reimbursement wasn't processed till a few days after so it was on its own day.\n",
    "\n",
    "Anyway, back to my questions about my spending habits. First up: how many days in a row would I spend money?"
   ]
  },
  {
   "cell_type": "code",
   "execution_count": 11,
   "metadata": {},
   "outputs": [
    {
     "data": {
      "text/plain": [
       "1.0    59\n",
       "2.0     6\n",
       "3.0     2\n",
       "Name: date, dtype: int64"
      ]
     },
     "execution_count": 11,
     "metadata": {},
     "output_type": "execute_result"
    }
   ],
   "source": [
    "days_btw_purchases = df.sort_values(by='date')['date'].drop_duplicates().diff().dt.days\n",
    "\n",
    "# Remove the large value which represents the month I went to Malaysia\n",
    "days_btw_purchases[days_btw_purchases < 30].value_counts()"
   ]
  },
  {
   "cell_type": "markdown",
   "metadata": {},
   "source": [
    "So there were 55 days in a row where I made some sort of purchase, and only 2 days where I waited 3 days between purchases. I didn't ever wait more than 3 days (except the one-month break when I went to Malaysia, lol).\n",
    "\n",
    "This is actually quite surprising! In my mind, I would go to the big city, buy a bunch of stuff, and then retreat to the wilderness. But now that I think about it, in actuality I would do that, but for big expenses only. I made small purchases almost every day, either stopping by a coffee shop or getting pie at Capitol Reef or other small joys.\n",
    "\n",
    "Let's see how these numbers change as I increase the amount of money that I consider a \"purchase\":"
   ]
  },
  {
   "cell_type": "code",
   "execution_count": 12,
   "metadata": {},
   "outputs": [
    {
     "data": {
      "image/png": "[encoded data removed]",
      "text/plain": [
       "<Figure size 720x144 with 3 Axes>"
      ]
     },
     "metadata": {
      "needs_background": "light"
     },
     "output_type": "display_data"
    }
   ],
   "source": [
    "fig, ax = plt.subplots(1, 3, figsize=(10, 2))\n",
    "\n",
    "prices = [10, 35, 50]\n",
    "i = 0\n",
    "for p in prices:\n",
    "    \n",
    "    days_btw_purchases = df.query('price > @p').sort_values(by='date')['date'].drop_duplicates().diff().dt.days\n",
    "    days_btw_purchases[days_btw_purchases < 30].plot(kind='hist', ax=ax[i])\n",
    "    \n",
    "    ax[i].set_title('${}'.format(p))\n",
    "    if i == 0:\n",
    "        ax[i].set_ylabel('Frequency')\n",
    "    else:\n",
    "        ax[i].set_ylabel('')\n",
    "\n",
    "    ax[i].set_xlabel('Days between purchase')\n",
    "    i += 1\n",
    "fig.tight_layout()"
   ]
  },
  {
   "cell_type": "markdown",
   "metadata": {},
   "source": [
    "Damn. There were five times when I spent more than \\\\$50 two days in a row?? (That's what the left-most bar in the \\\\$50 panel tells me). And in general, there were only a few times when I went more than a week in between > \\\\$50 expenses. \n",
    "\n",
    "On the flip side, there was only one time when I went like 5 days without spending more than \\\\$10. This was probably the week that I was hanging out in Utah, from Bryce to Moab. \n",
    "\n",
    "The \\\\$35 price cutoff is intersting, because it kind of _de facto_ removes most of my gas fillups since they were usually about \\\\$30. Here the purchases are more varied: sometimes I spent more than \\\\$35 two days in a row, and other times I went about a week without spending that much on any given day. This jives much more with my feeling on how I spent money this trip.\n",
    "\n",
    "Either way, I was maybe a less big spender than I expected (\\\\$4300 is so little for such a massive trip), but definitely a _more frequent_ spender than I thought."
   ]
  },
  {
   "cell_type": "markdown",
   "metadata": {},
   "source": [
    "### Gas, groceries, and camping\n",
    "\n",
    "Now let's zoom in more specifically to the three big categories of expenses, and the ones you might be most interested in if you're planning your own trip. \n",
    "\n",
    "The \"car\" category includes gas and other things, but for now I'm honestly only interested in looking at how often I paid for gas. Similarly, let's focus on my grocery shopping trips rather than eating out, since if you were trying to have the cheapest road trip possible then this would be the most important thing to look at."
   ]
  },
  {
   "cell_type": "code",
   "execution_count": 13,
   "metadata": {},
   "outputs": [],
   "source": [
    "# Find all gas and grocery expenses, and put them in their own sub category\n",
    "df['sub_category'] = df['category']\n",
    "df.loc[df['item'].str.contains('gas'), 'sub_category'] = 'gas'\n",
    "df.loc[df['item'].str.contains('groceries'), 'sub_category'] = 'groceries'"
   ]
  },
  {
   "cell_type": "markdown",
   "metadata": {},
   "source": [
    "I'll do a similar analysis as above, looking at how many days in a row I spent money on each given thing. This time, though, I'll look within each category only. For example, this will let me answer \"on average, how many days would I go between filling up my tank?\""
   ]
  },
  {
   "cell_type": "code",
   "execution_count": 16,
   "metadata": {},
   "outputs": [
    {
     "data": {
      "text/html": [
       "<div>\n",
       "<style scoped>\n",
       "    .dataframe tbody tr th:only-of-type {\n",
       "        vertical-align: middle;\n",
       "    }\n",
       "\n",
       "    .dataframe tbody tr th {\n",
       "        vertical-align: top;\n",
       "    }\n",
       "\n",
       "    .dataframe thead th {\n",
       "        text-align: right;\n",
       "    }\n",
       "</style>\n",
       "<table border=\"1\" class=\"dataframe\">\n",
       "  <thead>\n",
       "    <tr style=\"text-align: right;\">\n",
       "      <th></th>\n",
       "      <th>date</th>\n",
       "      <th>item</th>\n",
       "      <th>price</th>\n",
       "      <th>category</th>\n",
       "      <th>ben_or_claire</th>\n",
       "      <th>sub_category</th>\n",
       "      <th>days_since_last_same_category</th>\n",
       "      <th>days_since_last_same_subcategory</th>\n",
       "    </tr>\n",
       "  </thead>\n",
       "  <tbody>\n",
       "    <tr>\n",
       "      <th>0</th>\n",
       "      <td>2019-02-17</td>\n",
       "      <td>gas</td>\n",
       "      <td>37.14</td>\n",
       "      <td>car</td>\n",
       "      <td>NaN</td>\n",
       "      <td>gas</td>\n",
       "      <td>NaN</td>\n",
       "      <td>NaN</td>\n",
       "    </tr>\n",
       "    <tr>\n",
       "      <th>1</th>\n",
       "      <td>2019-02-17</td>\n",
       "      <td>sonic</td>\n",
       "      <td>4.90</td>\n",
       "      <td>food</td>\n",
       "      <td>NaN</td>\n",
       "      <td>food</td>\n",
       "      <td>NaN</td>\n",
       "      <td>NaN</td>\n",
       "    </tr>\n",
       "    <tr>\n",
       "      <th>2</th>\n",
       "      <td>2019-02-18</td>\n",
       "      <td>coffee</td>\n",
       "      <td>2.50</td>\n",
       "      <td>food</td>\n",
       "      <td>NaN</td>\n",
       "      <td>food</td>\n",
       "      <td>1.0</td>\n",
       "      <td>1.0</td>\n",
       "    </tr>\n",
       "    <tr>\n",
       "      <th>3</th>\n",
       "      <td>2019-02-18</td>\n",
       "      <td>lunch</td>\n",
       "      <td>12.00</td>\n",
       "      <td>food</td>\n",
       "      <td>NaN</td>\n",
       "      <td>food</td>\n",
       "      <td>0.0</td>\n",
       "      <td>0.0</td>\n",
       "    </tr>\n",
       "    <tr>\n",
       "      <th>4</th>\n",
       "      <td>2019-02-18</td>\n",
       "      <td>dinner tacos</td>\n",
       "      <td>8.15</td>\n",
       "      <td>food</td>\n",
       "      <td>NaN</td>\n",
       "      <td>food</td>\n",
       "      <td>0.0</td>\n",
       "      <td>0.0</td>\n",
       "    </tr>\n",
       "    <tr>\n",
       "      <th>5</th>\n",
       "      <td>2019-02-18</td>\n",
       "      <td>gas</td>\n",
       "      <td>32.89</td>\n",
       "      <td>car</td>\n",
       "      <td>NaN</td>\n",
       "      <td>gas</td>\n",
       "      <td>1.0</td>\n",
       "      <td>1.0</td>\n",
       "    </tr>\n",
       "    <tr>\n",
       "      <th>6</th>\n",
       "      <td>2019-02-18</td>\n",
       "      <td>groceries</td>\n",
       "      <td>35.21</td>\n",
       "      <td>food</td>\n",
       "      <td>NaN</td>\n",
       "      <td>groceries</td>\n",
       "      <td>0.0</td>\n",
       "      <td>NaN</td>\n",
       "    </tr>\n",
       "    <tr>\n",
       "      <th>7</th>\n",
       "      <td>2019-02-19</td>\n",
       "      <td>gas</td>\n",
       "      <td>23.41</td>\n",
       "      <td>car</td>\n",
       "      <td>NaN</td>\n",
       "      <td>gas</td>\n",
       "      <td>1.0</td>\n",
       "      <td>1.0</td>\n",
       "    </tr>\n",
       "    <tr>\n",
       "      <th>8</th>\n",
       "      <td>2019-02-19</td>\n",
       "      <td>guitar center</td>\n",
       "      <td>68.17</td>\n",
       "      <td>fun</td>\n",
       "      <td>NaN</td>\n",
       "      <td>fun</td>\n",
       "      <td>NaN</td>\n",
       "      <td>NaN</td>\n",
       "    </tr>\n",
       "    <tr>\n",
       "      <th>9</th>\n",
       "      <td>2019-02-20</td>\n",
       "      <td>gas</td>\n",
       "      <td>8.66</td>\n",
       "      <td>car</td>\n",
       "      <td>NaN</td>\n",
       "      <td>gas</td>\n",
       "      <td>1.0</td>\n",
       "      <td>1.0</td>\n",
       "    </tr>\n",
       "  </tbody>\n",
       "</table>\n",
       "</div>"
      ],
      "text/plain": [
       "        date           item  price category ben_or_claire sub_category  \\\n",
       "0 2019-02-17            gas  37.14      car           NaN          gas   \n",
       "1 2019-02-17          sonic   4.90     food           NaN         food   \n",
       "2 2019-02-18         coffee   2.50     food           NaN         food   \n",
       "3 2019-02-18          lunch  12.00     food           NaN         food   \n",
       "4 2019-02-18   dinner tacos   8.15     food           NaN         food   \n",
       "5 2019-02-18            gas  32.89      car           NaN          gas   \n",
       "6 2019-02-18      groceries  35.21     food           NaN    groceries   \n",
       "7 2019-02-19            gas  23.41      car           NaN          gas   \n",
       "8 2019-02-19  guitar center  68.17      fun           NaN          fun   \n",
       "9 2019-02-20            gas   8.66      car           NaN          gas   \n",
       "\n",
       "   days_since_last_same_category  days_since_last_same_subcategory  \n",
       "0                            NaN                               NaN  \n",
       "1                            NaN                               NaN  \n",
       "2                            1.0                               1.0  \n",
       "3                            0.0                               0.0  \n",
       "4                            0.0                               0.0  \n",
       "5                            1.0                               1.0  \n",
       "6                            0.0                               NaN  \n",
       "7                            1.0                               1.0  \n",
       "8                            NaN                               NaN  \n",
       "9                            1.0                               1.0  "
      ]
     },
     "execution_count": 16,
     "metadata": {},
     "output_type": "execute_result"
    }
   ],
   "source": [
    "# Calculate days between spending on the same category\n",
    "df['days_since_last_same_category'] = df.sort_values(by='date').groupby('category')['date'].diff().dt.days\n",
    "df['days_since_last_same_subcategory'] = df.sort_values(by='date').groupby('sub_category')['date'].diff().dt.days\n",
    "\n",
    "# Remove the large gap from Malaysia\n",
    "df.loc[df['days_since_last_same_category'] > 30, 'days_since_last_same_category'] = np.nan\n",
    "df.loc[df['days_since_last_same_subcategory'] > 30, 'days_since_last_same_subcategory'] = np.nan\n",
    "\n",
    "df.head(10)"
   ]
  },
  {
   "cell_type": "code",
   "execution_count": 17,
   "metadata": {},
   "outputs": [
    {
     "data": {
      "text/plain": [
       "<seaborn.axisgrid.FacetGrid at 0x1a1ab9e450>"
      ]
     },
     "execution_count": 17,
     "metadata": {},
     "output_type": "execute_result"
    },
    {
     "data": {
      "image/png": "[encoded data removed]",
      "text/plain": [
       "<Figure size 648x216 with 3 Axes>"
      ]
     },
     "metadata": {
      "needs_background": "light"
     },
     "output_type": "display_data"
    }
   ],
   "source": [
    "keep_cats = ['food', 'car', 'lodging']\n",
    "g = sns.FacetGrid(data=df.query('category == @keep_cats'), col='category', \n",
    "                  sharey=False, col_order=keep_cats, sharex=False)\n",
    "g.map(plt.hist, 'days_since_last_same_category')"
   ]
  },
  {
   "cell_type": "markdown",
   "metadata": {},
   "source": [
    "Hm. This is also surprising, and tells me that I spent money on way more days than I thought. (I am seeing this in the fact that the \"0\" bar is quite large on all histograms, indicating that I frequently went zero days in between sequential purchases).\n",
    "\n",
    "Specifically, I bought food two days in a row about 40 times. And then the majority of the rest of the times I bought food were just 1 day apart. In other words, for the majority of my trip I bought food either every day or every other day.\n",
    "\n",
    "Looks like the story is pretty similar for car-related expenses: the majority of expenses had a lag of 0-2 days. So for the majority of my trip, I spent money on my car somewhere between every day and every 3 days. That makes sense -- I usually moved to a new spot every 2-3 days, which entailed a lot of driving, and I must have gotten gas basically every time I did that.\n",
    "\n",
    "Now, lodging. Let's see: does this make sense? My impression is that I super rarely paid for housing... What this is saying is that yes, there were a few times when I went a week or more without paying for housing, but when I did pay for housing I paid for housing again within the next three days. I have a separate spreadsheet where I tracked the lodging expenses more cleanly, we'll have to come back to this when we analyze that one...\n",
    "\n",
    "Let's zoom into the groceries and gas question, because I think these expenses are where I'm drawing my intuition from."
   ]
  },
  {
   "cell_type": "code",
   "execution_count": 18,
   "metadata": {},
   "outputs": [
    {
     "data": {
      "text/plain": [
       "<seaborn.axisgrid.FacetGrid at 0x1a1b089750>"
      ]
     },
     "execution_count": 18,
     "metadata": {},
     "output_type": "execute_result"
    },
    {
     "data": {
      "image/png": "[encoded data removed]",
      "text/plain": [
       "<Figure size 432x216 with 2 Axes>"
      ]
     },
     "metadata": {
      "needs_background": "light"
     },
     "output_type": "display_data"
    }
   ],
   "source": [
    "keep_subcats = ['groceries', 'gas']\n",
    "g = sns.FacetGrid(data=df.query('sub_category == @keep_subcats'), col='sub_category', \n",
    "                  sharey=False, col_order=keep_subcats, sharex=False)\n",
    "g.map(plt.hist, 'days_since_last_same_subcategory')"
   ]
  },
  {
   "cell_type": "markdown",
   "metadata": {},
   "source": [
    "Yeah, I think this checks out. Of the 9 times I bought groceries, about 2/3 of them were at least 5 days apart (these are the bars on the right of the \"groceries\" plot). That makes sense -- I feel like I tended to buy groceries about once a week, and sometimes I'd have forgotten something so would need to swing back by the store the next day to get a bit more.\n",
    "\n",
    "Similarly, most of my gas purchases were something like 2-3 days apart. This also makes sense, given my reasoning above about how often I was on the move."
   ]
  },
  {
   "cell_type": "markdown",
   "metadata": {},
   "source": [
    "## Coffee\n",
    "\n",
    "Okay, I'm getting a bit tired of this deep dive but there is one more thing I want to know: how much money did I spend on caffeine?\n",
    "\n",
    "As I was putting these data into the spreadsheet, I found myself often typing \"coffee\" or \"tea.\" Ruh roh..."
   ]
  },
  {
   "cell_type": "code",
   "execution_count": 19,
   "metadata": {},
   "outputs": [
    {
     "data": {
      "text/plain": [
       "coffee                  15\n",
       "tea                      3\n",
       "coffee and lunch         2\n",
       "coffee and donuts        1\n",
       "tea and gatorade         1\n",
       "coffee and breakfast     1\n",
       "coffee and taters        1\n",
       "coffee and muffin        1\n",
       "pie and coffee           1\n",
       "iced tea                 1\n",
       "Name: item, dtype: int64"
      ]
     },
     "execution_count": 19,
     "metadata": {},
     "output_type": "execute_result"
    }
   ],
   "source": [
    "# Get any items where I specified coffee or tea\n",
    "df[df['item'].str.contains('coffee|tea')]['item'].value_counts()"
   ]
  },
  {
   "cell_type": "markdown",
   "metadata": {},
   "source": [
    "Hehe, can you tell that I liked to treat myself to coffee in a variety of ways? :)\n",
    "\n",
    "I'll note here that I _also_ had instant coffee available, which isn't included in these expenses (I bought a super-pack at Costco). Pro-tip for all my fellow road tripping caffeine addicts: the Starbucks instant coffee is actually quite nice! There was even once where I treated myself to \"real\" coffee at some Bryce Canyon lodge, and it was _way worse_ than my usual instant. Good to know. But also I am weak and loved to treat myself to coffee and breakfast whenever I could reasonably justify it.\n",
    "\n",
    "Okay but back to business: how much did I spend, and how often?"
   ]
  },
  {
   "cell_type": "code",
   "execution_count": 20,
   "metadata": {},
   "outputs": [
    {
     "data": {
      "text/plain": [
       "140.61"
      ]
     },
     "execution_count": 20,
     "metadata": {},
     "output_type": "execute_result"
    }
   ],
   "source": [
    "caffeine = df[df['item'].str.contains('coffee|tea')]\n",
    "caffeine['price'].sum()"
   ]
  },
  {
   "cell_type": "markdown",
   "metadata": {},
   "source": [
    "Hah! I spent \\\\$136 on caffeine (plus, at times, also food -- but let's be real the breakfast was just an excuse to buy coffee). That's about \\\\$1.30 a day, which is... not bad? (Though, again, this was _treat_ coffee, and I had instant most days of the trip.)\n",
    "\n",
    "Okay. How many days did I go in between giving in to my desire for some non-instant coffee or other caffeine?"
   ]
  },
  {
   "cell_type": "code",
   "execution_count": 21,
   "metadata": {},
   "outputs": [
    {
     "data": {
      "text/plain": [
       "Text(0.5,0,'Days between caffeine')"
      ]
     },
     "execution_count": 21,
     "metadata": {},
     "output_type": "execute_result"
    },
    {
     "data": {
      "image/png": "[encoded data removed]",
      "text/plain": [
       "<Figure size 432x288 with 1 Axes>"
      ]
     },
     "metadata": {
      "needs_background": "light"
     },
     "output_type": "display_data"
    }
   ],
   "source": [
    "days_btw_caffeine = caffeine.sort_values(by='date')['date'].drop_duplicates().diff().dt.days\n",
    "days_btw_caffeine = days_btw_caffeine[days_btw_caffeine < 30]\n",
    "days_btw_caffeine.plot(kind='hist')\n",
    "plt.xlabel('Days between caffeine')"
   ]
  },
  {
   "cell_type": "markdown",
   "metadata": {},
   "source": [
    "And therein, my friends, lies the histogram of an addict: I rarely went more than 5 days in between buying myself some form of caffeine.\n",
    "\n",
    "So it goes. And it was all worth it."
   ]
  }
 ],
 "metadata": {
  "anaconda-cloud": {},
  "kernelspec": {
   "display_name": "Python [default]",
   "language": "python",
   "name": "python2"
  },
  "language_info": {
   "codemirror_mode": {
    "name": "ipython",
    "version": 2
   },
   "file_extension": ".py",
   "mimetype": "text/x-python",
   "name": "python",
   "nbconvert_exporter": "python",
   "pygments_lexer": "ipython2",
   "version": "2.7.15"
  }
 },
 "nbformat": 4,
 "nbformat_minor": 2
}
