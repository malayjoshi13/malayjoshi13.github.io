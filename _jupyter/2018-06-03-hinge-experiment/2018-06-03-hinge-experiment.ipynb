{
 "cells": [
  {
   "cell_type": "markdown",
   "metadata": {},
   "source": [
    "---\n",
    "title: Hinge experiment   \n",
    "permalink: /posts/2018/06/hinge-experiment    \n",
    "date: 2018-06-03    \n",
    "tags:   \n",
    "    - data-science\n",
    "    - coding\n",
    "---\n",
    "\n",
    "A couple of months ago, I was having dinner with a friend who was trying to convince me to start online dating - he's a hopeless romantic, and perhaps the only person on this earth who genuinely enjoys it. I really dislike online dating for many reasons and we'd had this conversation many times before, so I wasn't interested in his arguments. But as he was telling me about the new [app](https://hinge.co/) he was using, an idea started to form... Because of the way the app is set up, I realized I could test one of my longtime hypotheses, and in the process get some much-needed validation for why online dating sucks and definitively win our debate about whether or not I should sign up.\n",
    "\n",
    "Unlike normal online dating apps, the new app he was telling me about, [Hinge](https://hinge.co), doesn't let you \"like\" an entire profile - rather, you choose one photo or info snippet to like on the entire profile. You can also leave a comment on the thing you like, which is actually a great way to start conversations. I was intrigued by the idea of the app, but even more so by the data science opportunity this presented!\n",
    "\n",
    "See, one of the main reasons that I dislike online dating is that I think it's too difficult to align what I like about myself with what the people I like actually like about me, and even more so difficult to ensure that the profile content reflects those things. Furthermore, I'm fairly convinced that the majority of men on the internet are not looking for someone like me - they want a pretty generic woman who fits standard ideals of beauty, intelligence, humor, behavior, etc. In other words, I'm bad at online dating and I want some validation for why that is. :P\n",
    "\n",
    "As my friend was telling me about all the wonderful people he'd gone on dates with, I told him instead to focus on the thing I was getting super excited about: running an experiment to test this second hypothesis. We wrapped up our dinner and headed home to make my profile. We set it up so half of my photos were super generic millenial woman - very #basic - and so the other half were very \"me\" - reflective of the parts of my personality I _want_ people to be attracted to.\n",
    "\n",
    "Here's some examples of the two extremes:\n",
    "\n",
    "![](basic_examples.png)\n",
    "\n",
    "We decided that I would track which photo or blurb on my profile each person liked, the \"basic\"ness level of the content they liked, and whether or not I liked them back. Later, I also added a sort of \"ranking\" for how much I liked each potential suitor (mostly because I ended up barely ever liking anyone back, so needed to get some data with a bit more variance!) To keep my own sanity, I didn't track the \"basic\"ness of the people _I_ was liking, though that would have been fun to compare. I do wonder if my \"match percent\" is higher (or lower!) among people who liked me first than among the general population. But alas, a woman can only collect so much data..."
   ]
  },
  {
   "cell_type": "code",
   "execution_count": 1,
   "metadata": {},
   "outputs": [
    {
     "data": {
      "text/html": [
       "<div>\n",
       "<style scoped>\n",
       "    .dataframe tbody tr th:only-of-type {\n",
       "        vertical-align: middle;\n",
       "    }\n",
       "\n",
       "    .dataframe tbody tr th {\n",
       "        vertical-align: top;\n",
       "    }\n",
       "\n",
       "    .dataframe thead th {\n",
       "        text-align: right;\n",
       "    }\n",
       "</style>\n",
       "<table border=\"1\" class=\"dataframe\">\n",
       "  <thead>\n",
       "    <tr style=\"text-align: right;\">\n",
       "      <th></th>\n",
       "      <th>Date entered</th>\n",
       "      <th>Person</th>\n",
       "      <th>which type?</th>\n",
       "      <th>description</th>\n",
       "      <th>basicness</th>\n",
       "      <th>Comment left?</th>\n",
       "      <th>Did I match him?</th>\n",
       "      <th>Did I like him (1=no, 4=yes)</th>\n",
       "      <th>Unnamed: 8</th>\n",
       "      <th>Unnamed: 10</th>\n",
       "      <th>date</th>\n",
       "    </tr>\n",
       "  </thead>\n",
       "  <tbody>\n",
       "    <tr>\n",
       "      <th>142</th>\n",
       "      <td>5/7</td>\n",
       "      <td>Pratap</td>\n",
       "      <td>photo</td>\n",
       "      <td>cuba-smiling-first-photo</td>\n",
       "      <td>3</td>\n",
       "      <td>NaN</td>\n",
       "      <td>n</td>\n",
       "      <td>2.0</td>\n",
       "      <td>physical, short-profile</td>\n",
       "      <td>NaN</td>\n",
       "      <td>2018-05-07</td>\n",
       "    </tr>\n",
       "    <tr>\n",
       "      <th>143</th>\n",
       "      <td>5/7</td>\n",
       "      <td>Yashar</td>\n",
       "      <td>photo</td>\n",
       "      <td>bali-bird-claire-face</td>\n",
       "      <td>4</td>\n",
       "      <td>NaN</td>\n",
       "      <td>n</td>\n",
       "      <td>2.0</td>\n",
       "      <td>physical, old(35)</td>\n",
       "      <td>NaN</td>\n",
       "      <td>2018-05-07</td>\n",
       "    </tr>\n",
       "    <tr>\n",
       "      <th>144</th>\n",
       "      <td>5/7</td>\n",
       "      <td>Cenk</td>\n",
       "      <td>photo</td>\n",
       "      <td>drunk-claire-and-jaz</td>\n",
       "      <td>1</td>\n",
       "      <td>NaN</td>\n",
       "      <td>n</td>\n",
       "      <td>2.0</td>\n",
       "      <td>physical, mit-grad-student</td>\n",
       "      <td>NaN</td>\n",
       "      <td>2018-05-07</td>\n",
       "    </tr>\n",
       "    <tr>\n",
       "      <th>145</th>\n",
       "      <td>5/7</td>\n",
       "      <td>Ezra</td>\n",
       "      <td>photo</td>\n",
       "      <td>cuba-smiling-first-photo</td>\n",
       "      <td>3</td>\n",
       "      <td>NaN</td>\n",
       "      <td>n</td>\n",
       "      <td>2.0</td>\n",
       "      <td>physical, young(23)</td>\n",
       "      <td>NaN</td>\n",
       "      <td>2018-05-07</td>\n",
       "    </tr>\n",
       "    <tr>\n",
       "      <th>146</th>\n",
       "      <td>5/7</td>\n",
       "      <td>Pablo</td>\n",
       "      <td>photo</td>\n",
       "      <td>bali-bird-claire-face</td>\n",
       "      <td>4</td>\n",
       "      <td>NaN</td>\n",
       "      <td>n</td>\n",
       "      <td>2.0</td>\n",
       "      <td>NaN</td>\n",
       "      <td>NaN</td>\n",
       "      <td>2018-05-07</td>\n",
       "    </tr>\n",
       "  </tbody>\n",
       "</table>\n",
       "</div>"
      ],
      "text/plain": [
       "    Date entered  Person which type?               description  basicness  \\\n",
       "142          5/7  Pratap       photo  cuba-smiling-first-photo          3   \n",
       "143          5/7  Yashar       photo     bali-bird-claire-face          4   \n",
       "144          5/7    Cenk       photo      drunk-claire-and-jaz          1   \n",
       "145          5/7    Ezra       photo  cuba-smiling-first-photo          3   \n",
       "146          5/7   Pablo       photo     bali-bird-claire-face          4   \n",
       "\n",
       "    Comment left? Did I match him?  Did I like him (1=no, 4=yes)  \\\n",
       "142           NaN                n                           2.0   \n",
       "143           NaN                n                           2.0   \n",
       "144           NaN                n                           2.0   \n",
       "145           NaN                n                           2.0   \n",
       "146           NaN                n                           2.0   \n",
       "\n",
       "                     Unnamed: 8 Unnamed: 10       date  \n",
       "142     physical, short-profile         NaN 2018-05-07  \n",
       "143           physical, old(35)         NaN 2018-05-07  \n",
       "144  physical, mit-grad-student         NaN 2018-05-07  \n",
       "145         physical, young(23)         NaN 2018-05-07  \n",
       "146                         NaN         NaN 2018-05-07  "
      ]
     },
     "execution_count": 1,
     "metadata": {},
     "output_type": "execute_result"
    }
   ],
   "source": [
    "import pandas as pd\n",
    "import scipy.stats as sp\n",
    "\n",
    "from IPython.display import display\n",
    "\n",
    "import matplotlib.pyplot as plt\n",
    "import seaborn as sns\n",
    "%matplotlib inline\n",
    "\n",
    "df = pd.read_csv('Hinge - Claire.csv')\n",
    "df = df.dropna(how='all', axis=1)\n",
    "df['date'] = pd.to_datetime(df['Date entered'] + '/18')\n",
    "df = df.rename(columns={'how basic? (1 = basic white girl, 4 = claire as af)': 'basicness'})\n",
    "df.tail()"
   ]
  },
  {
   "cell_type": "markdown",
   "metadata": {},
   "source": [
    "First, let's take a look at our data. How many people liked me, and did they like photos or comments? \n",
    "\n",
    "### Total suitors"
   ]
  },
  {
   "cell_type": "code",
   "execution_count": 2,
   "metadata": {},
   "outputs": [
    {
     "data": {
      "text/plain": [
       "<matplotlib.text.Text at 0x10499da90>"
      ]
     },
     "execution_count": 2,
     "metadata": {},
     "output_type": "execute_result"
    },
    {
     "data": {
      "image/png": "[encoded data removed]",
      "text/plain": [
       "<matplotlib.figure.Figure at 0x10499d9d0>"
      ]
     },
     "metadata": {},
     "output_type": "display_data"
    }
   ],
   "source": [
    "sns.set_style('white')\n",
    "\n",
    "# Get total number of suitors\n",
    "df['n'] = 1\n",
    "df['n_cumsum'] = df['n'].cumsum()\n",
    "df.plot(x='date', y='n_cumsum', legend=False)\n",
    "plt.ylabel('Number of suitors', fontsize='large')\n",
    "plt.xlabel('')"
   ]
  },
  {
   "cell_type": "code",
   "execution_count": 3,
   "metadata": {},
   "outputs": [
    {
     "data": {
      "text/plain": [
       "date\n",
       "2018-03-29    44\n",
       "2018-03-31    16\n",
       "2018-04-01     5\n",
       "Name: n, dtype: int64"
      ]
     },
     "execution_count": 3,
     "metadata": {},
     "output_type": "execute_result"
    }
   ],
   "source": [
    "df.groupby('date').sum()['n'].head(3)"
   ]
  },
  {
   "cell_type": "markdown",
   "metadata": {},
   "source": [
    "In total, I had 147 people like me (we'll call these \"suitors\") over the course of the ~40-day experiment. The first few days of the experiment were a little overwhelming - on the first day collecting data, I entered over 40 suitors! Thankfully, the pace slowed down considerably after that. I'm not sure I would have been able to continue otherwise!"
   ]
  },
  {
   "cell_type": "code",
   "execution_count": 4,
   "metadata": {},
   "outputs": [
    {
     "data": {
      "text/plain": [
       "which type?\n",
       "comment     30\n",
       "photo      117\n",
       "dtype: int64"
      ]
     },
     "execution_count": 4,
     "metadata": {},
     "output_type": "execute_result"
    }
   ],
   "source": [
    "df.groupby('which type?').size()"
   ]
  },
  {
   "cell_type": "markdown",
   "metadata": {},
   "source": [
    "The majority of likes (~80%) were for photos, though there were also some suitors who liked one of my short answers to the prompts given by Hinge.\n",
    "\n",
    "### Match rate"
   ]
  },
  {
   "cell_type": "code",
   "execution_count": 5,
   "metadata": {},
   "outputs": [
    {
     "data": {
      "text/plain": [
       "Did I match him?\n",
       "n    137\n",
       "y     10\n",
       "dtype: int64"
      ]
     },
     "execution_count": 5,
     "metadata": {},
     "output_type": "execute_result"
    }
   ],
   "source": [
    "df.groupby('Did I match him?').size()"
   ]
  },
  {
   "cell_type": "markdown",
   "metadata": {},
   "source": [
    "I did not like back the vast majority of my suitors - I said \"yes\" to 10 of the 147 suitors. That's a 6.8% rate, slightly less than the [MIT undergrad admission rate](http://mitadmissions.org/apply/process/stats)! That said, I don't think this is actually an honest reflection of how picky I am (though I am picky!) - I'm pretty sure it's actually a better reflection of my distaste for online dating..."
   ]
  },
  {
   "cell_type": "markdown",
   "metadata": {},
   "source": [
    "### The experiment\n",
    "\n",
    "Okay, enough of this data exploration - let's get to the meat of it! Does the data support my hypothesis that people on the internet just want a generic woman - can I feel completely validated in my distaste for online dating, or do I need to find a better excuse??!\n",
    "\n",
    "I rated each part of my profile on a scale from 1 to 4, where 1 was the most generic/basic (i.e. a blurry photo of me and my friend drunk in a bar or a silhoeutte of me walking on the beach) and 4 was the most Claire (i.e. mostly photos of me making funny faces). Let's see..."
   ]
  },
  {
   "cell_type": "code",
   "execution_count": 86,
   "metadata": {},
   "outputs": [
    {
     "data": {
      "text/plain": [
       "description                                   basicness\n",
       "bali-bird-claire-face                         4            21\n",
       "beach-body-silhouette                         1             8\n",
       "cambodia-farm-girl-claire                     4             1\n",
       "candy-crush                                   2             1\n",
       "cuba-smiling-first-photo                      3            47\n",
       "drunk-claire-and-jaz                          1            15\n",
       "graduation-tongue-sticking-out                4             2\n",
       "great-use-of-emojis                           1             6\n",
       "                                              2             7\n",
       "motorcycle-claire-laos                        3            10\n",
       "open-communication-shared-puns-relationship   1             7\n",
       "posed-angkor-wat-photo                        1             8\n",
       "sending-postcards-award                       4             5\n",
       "shelby-and-claire-ptown                       2             4\n",
       "whiskey-friends-and-frisbee-simple-pleasures  1             5\n",
       "dtype: int64"
      ]
     },
     "execution_count": 86,
     "metadata": {},
     "output_type": "execute_result"
    }
   ],
   "source": [
    "df.groupby(['description', 'basicness']).size()"
   ]
  },
  {
   "cell_type": "markdown",
   "metadata": {},
   "source": [
    "Oops, it looks like I labeled the same short answer with two different ratings. This question was \"I'm weirdly attracted to...\" and \"Great use of emojis\" was literally the suggested response - definitely a 1 rating."
   ]
  },
  {
   "cell_type": "code",
   "execution_count": 6,
   "metadata": {},
   "outputs": [],
   "source": [
    "df.loc[df.query('description == \"great-use-of-emojis\"').index, 'basicness'] = 1"
   ]
  },
  {
   "cell_type": "code",
   "execution_count": 7,
   "metadata": {},
   "outputs": [
    {
     "data": {
      "text/html": [
       "<div>\n",
       "<style scoped>\n",
       "    .dataframe tbody tr th:only-of-type {\n",
       "        vertical-align: middle;\n",
       "    }\n",
       "\n",
       "    .dataframe tbody tr th {\n",
       "        vertical-align: top;\n",
       "    }\n",
       "\n",
       "    .dataframe thead th {\n",
       "        text-align: right;\n",
       "    }\n",
       "</style>\n",
       "<table border=\"1\" class=\"dataframe\">\n",
       "  <thead>\n",
       "    <tr style=\"text-align: right;\">\n",
       "      <th></th>\n",
       "      <th>description</th>\n",
       "      <th>basicness</th>\n",
       "    </tr>\n",
       "  </thead>\n",
       "  <tbody>\n",
       "    <tr>\n",
       "      <th>1</th>\n",
       "      <td>drunk-claire-and-jaz</td>\n",
       "      <td>1</td>\n",
       "    </tr>\n",
       "    <tr>\n",
       "      <th>7</th>\n",
       "      <td>great-use-of-emojis</td>\n",
       "      <td>1</td>\n",
       "    </tr>\n",
       "    <tr>\n",
       "      <th>14</th>\n",
       "      <td>beach-body-silhouette</td>\n",
       "      <td>1</td>\n",
       "    </tr>\n",
       "    <tr>\n",
       "      <th>83</th>\n",
       "      <td>posed-angkor-wat-photo</td>\n",
       "      <td>1</td>\n",
       "    </tr>\n",
       "    <tr>\n",
       "      <th>90</th>\n",
       "      <td>open-communication-shared-puns-relationship</td>\n",
       "      <td>1</td>\n",
       "    </tr>\n",
       "    <tr>\n",
       "      <th>91</th>\n",
       "      <td>whiskey-friends-and-frisbee-simple-pleasures</td>\n",
       "      <td>1</td>\n",
       "    </tr>\n",
       "    <tr>\n",
       "      <th>0</th>\n",
       "      <td>shelby-and-claire-ptown</td>\n",
       "      <td>2</td>\n",
       "    </tr>\n",
       "    <tr>\n",
       "      <th>32</th>\n",
       "      <td>candy-crush</td>\n",
       "      <td>2</td>\n",
       "    </tr>\n",
       "    <tr>\n",
       "      <th>4</th>\n",
       "      <td>motorcycle-claire-laos</td>\n",
       "      <td>3</td>\n",
       "    </tr>\n",
       "    <tr>\n",
       "      <th>5</th>\n",
       "      <td>cuba-smiling-first-photo</td>\n",
       "      <td>3</td>\n",
       "    </tr>\n",
       "    <tr>\n",
       "      <th>2</th>\n",
       "      <td>cambodia-farm-girl-claire</td>\n",
       "      <td>4</td>\n",
       "    </tr>\n",
       "    <tr>\n",
       "      <th>18</th>\n",
       "      <td>bali-bird-claire-face</td>\n",
       "      <td>4</td>\n",
       "    </tr>\n",
       "    <tr>\n",
       "      <th>23</th>\n",
       "      <td>sending-postcards-award</td>\n",
       "      <td>4</td>\n",
       "    </tr>\n",
       "    <tr>\n",
       "      <th>81</th>\n",
       "      <td>graduation-tongue-sticking-out</td>\n",
       "      <td>4</td>\n",
       "    </tr>\n",
       "  </tbody>\n",
       "</table>\n",
       "</div>"
      ],
      "text/plain": [
       "                                     description  basicness\n",
       "1                           drunk-claire-and-jaz          1\n",
       "7                            great-use-of-emojis          1\n",
       "14                         beach-body-silhouette          1\n",
       "83                        posed-angkor-wat-photo          1\n",
       "90   open-communication-shared-puns-relationship          1\n",
       "91  whiskey-friends-and-frisbee-simple-pleasures          1\n",
       "0                        shelby-and-claire-ptown          2\n",
       "32                                   candy-crush          2\n",
       "4                         motorcycle-claire-laos          3\n",
       "5                       cuba-smiling-first-photo          3\n",
       "2                      cambodia-farm-girl-claire          4\n",
       "18                         bali-bird-claire-face          4\n",
       "23                       sending-postcards-award          4\n",
       "81                graduation-tongue-sticking-out          4"
      ]
     },
     "execution_count": 7,
     "metadata": {},
     "output_type": "execute_result"
    }
   ],
   "source": [
    "df.drop_duplicates(['description', 'basicness'])[['description', 'basicness']].sort_values(by='basicness')"
   ]
  },
  {
   "cell_type": "markdown",
   "metadata": {},
   "source": [
    "So we're actually going to flub some of the analysis here, because the experiment wasn't totally cleanly set up (hey, come on this isn't my day job...) I was planning on hating this a lot less and running more experiments (or at least changing up my photos more often), but I ended up just lasting long enough to switch around my photos once. After my first profile creation night with my friend, I did one more round of edits with another friend, where we removed some of the intermediate photos and replaced them with more \"extreme\" examples. So the distribution of \"basicness\" ratings in my profile aren't exactly even, and did change a bit throughout the course of the experiment. For now, I'm going to completely ignore this caveat and proceed regardless. This isn't rocket science, it's just a dumb thing I did for fun! :P\n",
    "\n",
    "## Which Claire?"
   ]
  },
  {
   "cell_type": "code",
   "execution_count": 8,
   "metadata": {},
   "outputs": [
    {
     "data": {
      "text/plain": [
       "<matplotlib.text.Text at 0x10fb4b590>"
      ]
     },
     "execution_count": 8,
     "metadata": {},
     "output_type": "execute_result"
    },
    {
     "data": {
      "image/png": "[encoded data removed]",
      "text/plain": [
       "<matplotlib.figure.Figure at 0x10499d2d0>"
      ]
     },
     "metadata": {},
     "output_type": "display_data"
    }
   ],
   "source": [
    "fig, ax = plt.subplots()\n",
    "ax.hist(df['basicness'], bins=range(1, 6))\n",
    "ax.set_xticks([1.5, 2.5, 3.5, 4.5])\n",
    "ax.set_xticklabels([1,2,3,4], fontsize='large')\n",
    "ax.set_xlabel('Basic rating', fontsize='x-large')\n",
    "ax.set_ylabel('Number of likes', fontsize='x-large')"
   ]
  },
  {
   "cell_type": "markdown",
   "metadata": {},
   "source": [
    "Hm, looks like this _could_ be consistent with uniform sampling from the given photos... Let's see what the probability of getting this distribution from a multinomial distribution seeded with the distribution of categories on my profile."
   ]
  },
  {
   "cell_type": "code",
   "execution_count": 9,
   "metadata": {},
   "outputs": [],
   "source": [
    "def count_basics(df):\n",
    "    \"\"\"\n",
    "    Count the number of profile items per basic rating, proportion of items, and \n",
    "    total number of 'likes' per category.\n",
    "    \"\"\"\n",
    "    prof_count = df.drop_duplicates(['description', 'basicness']).groupby('basicness').size()\n",
    "    prof_prop = (df.drop_duplicates(['description', 'basicness']).groupby('basicness').size() \n",
    "        / df.drop_duplicates(['description', 'basicness']).shape[0])\n",
    "    likes = df['basicness'].value_counts(sort=False)\n",
    "\n",
    "    res = pd.concat([prof_count, prof_prop, likes], axis=1)\n",
    "    res.columns = ['profile_count', 'profile_proportion', 'number_likes']\n",
    "                    \n",
    "    return res"
   ]
  },
  {
   "cell_type": "code",
   "execution_count": 10,
   "metadata": {},
   "outputs": [
    {
     "data": {
      "text/html": [
       "<div>\n",
       "<style scoped>\n",
       "    .dataframe tbody tr th:only-of-type {\n",
       "        vertical-align: middle;\n",
       "    }\n",
       "\n",
       "    .dataframe tbody tr th {\n",
       "        vertical-align: top;\n",
       "    }\n",
       "\n",
       "    .dataframe thead th {\n",
       "        text-align: right;\n",
       "    }\n",
       "</style>\n",
       "<table border=\"1\" class=\"dataframe\">\n",
       "  <thead>\n",
       "    <tr style=\"text-align: right;\">\n",
       "      <th></th>\n",
       "      <th>profile_count</th>\n",
       "      <th>profile_proportion</th>\n",
       "      <th>number_likes</th>\n",
       "    </tr>\n",
       "    <tr>\n",
       "      <th>basicness</th>\n",
       "      <th></th>\n",
       "      <th></th>\n",
       "      <th></th>\n",
       "    </tr>\n",
       "  </thead>\n",
       "  <tbody>\n",
       "    <tr>\n",
       "      <th>1</th>\n",
       "      <td>6</td>\n",
       "      <td>0.428571</td>\n",
       "      <td>56</td>\n",
       "    </tr>\n",
       "    <tr>\n",
       "      <th>2</th>\n",
       "      <td>2</td>\n",
       "      <td>0.142857</td>\n",
       "      <td>5</td>\n",
       "    </tr>\n",
       "    <tr>\n",
       "      <th>3</th>\n",
       "      <td>2</td>\n",
       "      <td>0.142857</td>\n",
       "      <td>57</td>\n",
       "    </tr>\n",
       "    <tr>\n",
       "      <th>4</th>\n",
       "      <td>4</td>\n",
       "      <td>0.285714</td>\n",
       "      <td>29</td>\n",
       "    </tr>\n",
       "  </tbody>\n",
       "</table>\n",
       "</div>"
      ],
      "text/plain": [
       "           profile_count  profile_proportion  number_likes\n",
       "basicness                                                 \n",
       "1                      6            0.428571            56\n",
       "2                      2            0.142857             5\n",
       "3                      2            0.142857            57\n",
       "4                      4            0.285714            29"
      ]
     },
     "execution_count": 10,
     "metadata": {},
     "output_type": "execute_result"
    }
   ],
   "source": [
    "count_basics(df)"
   ]
  },
  {
   "cell_type": "code",
   "execution_count": 11,
   "metadata": {},
   "outputs": [
    {
     "data": {
      "text/plain": [
       "4.962898960000889e-18"
      ]
     },
     "execution_count": 11,
     "metadata": {},
     "output_type": "execute_result"
    }
   ],
   "source": [
    "rv = sp.multinomial(147, [0.43, 0.14, 0.14, 0.29])\n",
    "rv.pmf([56, 5, 57, 29])"
   ]
  },
  {
   "cell_type": "markdown",
   "metadata": {},
   "source": [
    "Hm, I'm not sure I trust this result - I think a lot of the significance may be driven by the abnormally low number of \"2\" ratings. But I actually removed any profile items with a basic rating of 2 after my first round of edits. What do the numbers look like if we ignore these?"
   ]
  },
  {
   "cell_type": "code",
   "execution_count": 12,
   "metadata": {},
   "outputs": [
    {
     "data": {
      "text/html": [
       "<div>\n",
       "<style scoped>\n",
       "    .dataframe tbody tr th:only-of-type {\n",
       "        vertical-align: middle;\n",
       "    }\n",
       "\n",
       "    .dataframe tbody tr th {\n",
       "        vertical-align: top;\n",
       "    }\n",
       "\n",
       "    .dataframe thead th {\n",
       "        text-align: right;\n",
       "    }\n",
       "</style>\n",
       "<table border=\"1\" class=\"dataframe\">\n",
       "  <thead>\n",
       "    <tr style=\"text-align: right;\">\n",
       "      <th></th>\n",
       "      <th>profile_count</th>\n",
       "      <th>profile_proportion</th>\n",
       "      <th>number_likes</th>\n",
       "    </tr>\n",
       "    <tr>\n",
       "      <th>basicness</th>\n",
       "      <th></th>\n",
       "      <th></th>\n",
       "      <th></th>\n",
       "    </tr>\n",
       "  </thead>\n",
       "  <tbody>\n",
       "    <tr>\n",
       "      <th>1</th>\n",
       "      <td>6</td>\n",
       "      <td>0.500000</td>\n",
       "      <td>56</td>\n",
       "    </tr>\n",
       "    <tr>\n",
       "      <th>3</th>\n",
       "      <td>2</td>\n",
       "      <td>0.166667</td>\n",
       "      <td>57</td>\n",
       "    </tr>\n",
       "    <tr>\n",
       "      <th>4</th>\n",
       "      <td>4</td>\n",
       "      <td>0.333333</td>\n",
       "      <td>29</td>\n",
       "    </tr>\n",
       "  </tbody>\n",
       "</table>\n",
       "</div>"
      ],
      "text/plain": [
       "           profile_count  profile_proportion  number_likes\n",
       "basicness                                                 \n",
       "1                      6            0.500000            56\n",
       "3                      2            0.166667            57\n",
       "4                      4            0.333333            29"
      ]
     },
     "execution_count": 12,
     "metadata": {},
     "output_type": "execute_result"
    }
   ],
   "source": [
    "count_basics(df.query('basicness != 2'))"
   ]
  },
  {
   "cell_type": "code",
   "execution_count": 13,
   "metadata": {},
   "outputs": [
    {
     "data": {
      "text/plain": [
       "2.184134160669811e-12"
      ]
     },
     "execution_count": 13,
     "metadata": {},
     "output_type": "execute_result"
    }
   ],
   "source": [
    "rv = sp.multinomial(142, [0.5, 0.17, 0.33])\n",
    "rv.pmf([56, 57, 29])"
   ]
  },
  {
   "cell_type": "markdown",
   "metadata": {},
   "source": [
    "Looks like these are still distributed differently than you'd expect by chance. But this isn't that interesting - I actually have two more specific questions:\n",
    "\n",
    "1. Do people like \"basic millenial white girl\" Claire or \"Claire Claire\" better?   \n",
    "2. Do people just like the first photo and then screen me later?\n",
    "\n",
    "To answer the first question, we can just see whether I get a different number of \"likes\" for each category than you'd expect:"
   ]
  },
  {
   "cell_type": "code",
   "execution_count": 15,
   "metadata": {},
   "outputs": [
    {
     "data": {
      "text/html": [
       "<div>\n",
       "<style scoped>\n",
       "    .dataframe tbody tr th:only-of-type {\n",
       "        vertical-align: middle;\n",
       "    }\n",
       "\n",
       "    .dataframe tbody tr th {\n",
       "        vertical-align: top;\n",
       "    }\n",
       "\n",
       "    .dataframe thead th {\n",
       "        text-align: right;\n",
       "    }\n",
       "</style>\n",
       "<table border=\"1\" class=\"dataframe\">\n",
       "  <thead>\n",
       "    <tr style=\"text-align: right;\">\n",
       "      <th></th>\n",
       "      <th>profile_count</th>\n",
       "      <th>profile_proportion</th>\n",
       "      <th>number_likes</th>\n",
       "    </tr>\n",
       "    <tr>\n",
       "      <th>basicness</th>\n",
       "      <th></th>\n",
       "      <th></th>\n",
       "      <th></th>\n",
       "    </tr>\n",
       "  </thead>\n",
       "  <tbody>\n",
       "    <tr>\n",
       "      <th>1</th>\n",
       "      <td>6</td>\n",
       "      <td>0.6</td>\n",
       "      <td>56</td>\n",
       "    </tr>\n",
       "    <tr>\n",
       "      <th>4</th>\n",
       "      <td>4</td>\n",
       "      <td>0.4</td>\n",
       "      <td>29</td>\n",
       "    </tr>\n",
       "  </tbody>\n",
       "</table>\n",
       "</div>"
      ],
      "text/plain": [
       "           profile_count  profile_proportion  number_likes\n",
       "basicness                                                 \n",
       "1                      6                 0.6            56\n",
       "4                      4                 0.4            29"
      ]
     },
     "execution_count": 15,
     "metadata": {},
     "output_type": "execute_result"
    }
   ],
   "source": [
    "keep = [1, 4]\n",
    "count_basics(df.query('basicness == @keep'))"
   ]
  },
  {
   "cell_type": "markdown",
   "metadata": {},
   "source": [
    "So the probability of getting 29 or fewer likes with a rating of \"4\" in 85 total likes that are either 1 or 4 (given that I would expect 40% to be \"4\", if likes were given randomly) is:"
   ]
  },
  {
   "cell_type": "code",
   "execution_count": 27,
   "metadata": {},
   "outputs": [
    {
     "data": {
      "text/plain": [
       "0.15955216170354825"
      ]
     },
     "execution_count": 27,
     "metadata": {},
     "output_type": "execute_result"
    }
   ],
   "source": [
    "sp.binom.cdf(k=29,       # Probability of k = 29 likes or fewer with rating \"4\" \n",
    "             n=85,       # With 85 total likes (56 + 29)\n",
    "             p=0.4)      # And success (\"4\") probability 0.6"
   ]
  },
  {
   "cell_type": "markdown",
   "metadata": {},
   "source": [
    "Ah, okay fine - I'm wrong. People on the internet aren't significantly more attracted to \"basic\" Claire than \"Claire\" Claire. hrmph.\n",
    "\n",
    "## Lazy suitors\n",
    "\n",
    "Maybe the data will say what I want for the second question: I noticed that the majority of \"likes\" were for things with a rating of 3, which was really only my first photo: \n",
    "\n",
    "<img src=\"smiling_in_cuba.jpeg\" style=\"width: 200px;\"/>\n",
    "\n",
    "This is consistent with the hypothesis that most guys just go through and like every single person, and only _after_ they get a response do they bother screening people out, which is something I've heard is pretty common (from my male friends who do it themselves, hah).\n",
    "\n",
    "This is another thing I don't like about online dating: it's so strategic! It also sucks because I (naively) expect that when someone likes my profile and I reply to them, I'll get a reply back. But that turned out not to be the case. In fact, I wish I'd tracked my response rate to my messages, because I feel like it was really low! So although men and women are screened at different places, I think that both groups (except perhaps the traditionally physically attractive people) get very few successful matches.\n",
    "\n",
    "Okay, let's do the same thing as before but comparing \"yes 3\" and \"not a 3\". Let's get rid of the 2's again, and replace 1's and 4's with \"not-3\"."
   ]
  },
  {
   "cell_type": "code",
   "execution_count": 97,
   "metadata": {},
   "outputs": [
    {
     "data": {
      "text/html": [
       "<div>\n",
       "<style scoped>\n",
       "    .dataframe tbody tr th:only-of-type {\n",
       "        vertical-align: middle;\n",
       "    }\n",
       "\n",
       "    .dataframe tbody tr th {\n",
       "        vertical-align: top;\n",
       "    }\n",
       "\n",
       "    .dataframe thead th {\n",
       "        text-align: right;\n",
       "    }\n",
       "</style>\n",
       "<table border=\"1\" class=\"dataframe\">\n",
       "  <thead>\n",
       "    <tr style=\"text-align: right;\">\n",
       "      <th></th>\n",
       "      <th>profile_count</th>\n",
       "      <th>profile_proportion</th>\n",
       "      <th>number_likes</th>\n",
       "    </tr>\n",
       "  </thead>\n",
       "  <tbody>\n",
       "    <tr>\n",
       "      <th>3</th>\n",
       "      <td>2</td>\n",
       "      <td>0.166667</td>\n",
       "      <td>57</td>\n",
       "    </tr>\n",
       "    <tr>\n",
       "      <th>not-3</th>\n",
       "      <td>10</td>\n",
       "      <td>0.833333</td>\n",
       "      <td>85</td>\n",
       "    </tr>\n",
       "  </tbody>\n",
       "</table>\n",
       "</div>"
      ],
      "text/plain": [
       "       profile_count  profile_proportion  number_likes\n",
       "3                  2            0.166667            57\n",
       "not-3             10            0.833333            85"
      ]
     },
     "execution_count": 97,
     "metadata": {},
     "output_type": "execute_result"
    }
   ],
   "source": [
    "count_basics(df.query('basicness != 2').replace(1, 'not-3').replace(4, 'not-3'))"
   ]
  },
  {
   "cell_type": "markdown",
   "metadata": {},
   "source": [
    "So the probability of getting 85 or fewer likes with a rating of \"not 3\" in 142 total likes (given that the expected proportion of 83% of likes, if likes were given randomly) is:"
   ]
  },
  {
   "cell_type": "code",
   "execution_count": 29,
   "metadata": {},
   "outputs": [
    {
     "data": {
      "text/plain": [
       "6.069204228628914e-11"
      ]
     },
     "execution_count": 29,
     "metadata": {},
     "output_type": "execute_result"
    }
   ],
   "source": [
    "sp.binom.cdf(k=85,       # Probability of k = 85 likes or fewer with rating \"not 3\" \n",
    "             n=142,      # With 142 total likes (57 + 85)\n",
    "             p=0.83)      # And success (\"not 3\") probability 0.17"
   ]
  },
  {
   "cell_type": "markdown",
   "metadata": {},
   "source": [
    "Aha! People *are* super lazy and disproportionately like the first photo over all others. Take that, internet!\n",
    "\n",
    "Okay, now for one last analysis: who are these guys, anyway?\n",
    "\n",
    "## The suitors\n",
    "\n",
    "A small caveat here that I didn't start rating the suitors until a bit into the experiment, so there will be fewer here than above."
   ]
  },
  {
   "cell_type": "code",
   "execution_count": 98,
   "metadata": {},
   "outputs": [],
   "source": [
    "df = df.rename(columns={'Did I like him (1=no, 4=yes)': 'his_basic'})"
   ]
  },
  {
   "cell_type": "markdown",
   "metadata": {},
   "source": [
    "First, how many of the different ratings did I give out?"
   ]
  },
  {
   "cell_type": "code",
   "execution_count": 39,
   "metadata": {},
   "outputs": [
    {
     "data": {
      "text/plain": [
       "2.0    52\n",
       "3.0    25\n",
       "1.0    24\n",
       "Name: his_basic, dtype: int64"
      ]
     },
     "execution_count": 39,
     "metadata": {},
     "output_type": "execute_result"
    }
   ],
   "source": [
    "df['his_basic'].value_counts()"
   ]
  },
  {
   "cell_type": "markdown",
   "metadata": {},
   "source": [
    "Hah! I didn't give anyone a \"4\" rating!! That's pretty hilarious, and definitely shows my bias _against_ online dating - I don't have the prior probability for what I'd _expect_ this distribution to be, but I'm pretty sure that I like at least one person out of each ~150 that I meet in real life. \n",
    "\n",
    "Okay, but I did match _some_ people - who were they, what did they have in common?"
   ]
  },
  {
   "cell_type": "code",
   "execution_count": 49,
   "metadata": {},
   "outputs": [],
   "source": [
    "df = df.rename(columns={'Did I match him?': 'match', 'Unnamed: 8': 'why_match'})"
   ]
  },
  {
   "cell_type": "code",
   "execution_count": 51,
   "metadata": {},
   "outputs": [
    {
     "data": {
      "text/html": [
       "<div>\n",
       "<style scoped>\n",
       "    .dataframe tbody tr th:only-of-type {\n",
       "        vertical-align: middle;\n",
       "    }\n",
       "\n",
       "    .dataframe tbody tr th {\n",
       "        vertical-align: top;\n",
       "    }\n",
       "\n",
       "    .dataframe thead th {\n",
       "        text-align: right;\n",
       "    }\n",
       "</style>\n",
       "<table border=\"1\" class=\"dataframe\">\n",
       "  <thead>\n",
       "    <tr style=\"text-align: right;\">\n",
       "      <th></th>\n",
       "      <th>his_basic</th>\n",
       "      <th>match</th>\n",
       "      <th>why_match</th>\n",
       "    </tr>\n",
       "  </thead>\n",
       "  <tbody>\n",
       "    <tr>\n",
       "      <th>51</th>\n",
       "      <td>3.0</td>\n",
       "      <td>y</td>\n",
       "      <td>cute</td>\n",
       "    </tr>\n",
       "    <tr>\n",
       "      <th>52</th>\n",
       "      <td>3.0</td>\n",
       "      <td>y</td>\n",
       "      <td>good-comment</td>\n",
       "    </tr>\n",
       "    <tr>\n",
       "      <th>67</th>\n",
       "      <td>3.0</td>\n",
       "      <td>y</td>\n",
       "      <td>cute, good-answers</td>\n",
       "    </tr>\n",
       "    <tr>\n",
       "      <th>70</th>\n",
       "      <td>3.0</td>\n",
       "      <td>y</td>\n",
       "      <td>good-answers, want-to-know-if-sends-same-messa...</td>\n",
       "    </tr>\n",
       "    <tr>\n",
       "      <th>82</th>\n",
       "      <td>3.0</td>\n",
       "      <td>y</td>\n",
       "      <td>carpenter, good-profile, carolyn-matched-him</td>\n",
       "    </tr>\n",
       "    <tr>\n",
       "      <th>120</th>\n",
       "      <td>2.0</td>\n",
       "      <td>y</td>\n",
       "      <td>young(21), but-frisbee</td>\n",
       "    </tr>\n",
       "  </tbody>\n",
       "</table>\n",
       "</div>"
      ],
      "text/plain": [
       "     his_basic match                                          why_match\n",
       "51         3.0     y                                               cute\n",
       "52         3.0     y                                       good-comment\n",
       "67         3.0     y                                 cute, good-answers\n",
       "70         3.0     y  good-answers, want-to-know-if-sends-same-messa...\n",
       "82         3.0     y       carpenter, good-profile, carolyn-matched-him\n",
       "120        2.0     y                             young(21), but-frisbee"
      ]
     },
     "execution_count": 51,
     "metadata": {},
     "output_type": "execute_result"
    }
   ],
   "source": [
    "df.query('match == \"y\"')[['his_basic', 'match', 'why_match']].dropna()"
   ]
  },
  {
   "cell_type": "markdown",
   "metadata": {},
   "source": [
    "Interesting! Looks like the most important thing for me to like someone back was for them to have a good profile. It also helped if they looked good...\n",
    "\n",
    "Also some funny anecdotes in here: my best friend, Carolyn, also briefly joined me on this adventure. I was looking at her spreadsheet one day and noticed that she'd matched with someone who was in my potential suitors - so obviously I matched him! (Nothing came of it). There was also another guy who sent me a really good message, and I wanted to know if that was his stock message he sends to everyone (one of my friends told me this was his strategy a long time ago - I think it's brilliant!) The answer was no, that was a unique message. Also nothing came out of that XD\n",
    "\n",
    "Okay, let's now take a look at why I didn't like the others."
   ]
  },
  {
   "cell_type": "code",
   "execution_count": 71,
   "metadata": {},
   "outputs": [
    {
     "name": "stdout",
     "output_type": "stream",
     "text": [
      "young(22), nerdy,physical,physical,young(22),liked-beach-photo,basic, tom-brady,young(20),too-much-d\n"
     ]
    }
   ],
   "source": [
    "# First, get all the reasons into one string\n",
    "no_thanks = df.query('match == \"n\"')['why_match'].dropna().str.cat(sep=',')\n",
    "print(no_thanks[:100])\n",
    "# Then split them back up based on comma-separator\n",
    "no_thanks = [i.strip() for i in no_thanks.split(',')]"
   ]
  },
  {
   "cell_type": "code",
   "execution_count": 74,
   "metadata": {},
   "outputs": [
    {
     "data": {
      "text/plain": [
       "physical       50\n",
       "boring         10\n",
       "no-smile        8\n",
       "young(22)       6\n",
       "old(35)         4\n",
       "bad-profile     4\n",
       "old(38)         3\n",
       "old(39)         3\n",
       "bro             3\n",
       "looks-old       2\n",
       "dtype: int64"
      ]
     },
     "execution_count": 74,
     "metadata": {},
     "output_type": "execute_result"
    }
   ],
   "source": [
    "pd.Series(no_thanks).value_counts().head(10)"
   ]
  },
  {
   "cell_type": "markdown",
   "metadata": {},
   "source": [
    "Hah! As everybody knows, physical attraction is key (and hard to achieve with online dating) - this was by far the most frequent reason why I didn't like someone. The next highest was that I found them (via their profiles) boring. And next was \"no smile\" - I am super unattracted to guys who don't smile in _any_ of their photos. Like come on, you really couldn't find one?!\n",
    "\n",
    "Okay, there's also lots of age-related concerns here (I didn't put any filters on whose profiles I was willing to see). Let's parse these and re-count:"
   ]
  },
  {
   "cell_type": "code",
   "execution_count": 96,
   "metadata": {},
   "outputs": [
    {
     "data": {
      "text/plain": [
       "physical                       50\n",
       "old                            16\n",
       "young                          13\n",
       "boring                         10\n",
       "no-smile                        8\n",
       "bad-profile                     4\n",
       "bro                             3\n",
       "basic                           2\n",
       "cant-tell-which-one-you-are     2\n",
       "sports                          2\n",
       "dtype: int64"
      ]
     },
     "execution_count": 96,
     "metadata": {},
     "output_type": "execute_result"
    }
   ],
   "source": [
    "no_thanks = [i.split('(')[0] for i in no_thanks]\n",
    "pd.Series(no_thanks).value_counts().head(10)"
   ]
  },
  {
   "cell_type": "markdown",
   "metadata": {},
   "source": [
    "Yep, now guys being too old or too young move up to being one of the major reasons I didn't like them. A side note that I had two guys like me who were 45 and 47 - WTF.\n",
    "\n",
    "# tl'dr\n",
    "\n",
    "In conclusion, online dating is still a thing I really dislike. I didn't get the #validation I craved showing that guys are more interested in \"basic\" Claire than \"Claire\" Claire, but I did confirm that most people just like the first photo and then screen matches later. My poor little heart can't handle this (when someone matches me, I assume they actually are interested in me and am sad if I am interested in them but they don't reply to me).\n",
    "\n",
    "It turns out that good profiles were the most attractive thing to me. Apart from being unattracted to people I'm unattracted to (lulz), I really dislike boring dudes who don't smile. Nothing new here, also applies IRL.\n",
    "\n",
    "In conclusion, I'm super glad my phone got stolen so I had an easy breakpoint to stop this experiment. I love my friend and I love that he loves online dating, but it is 100% not for me. Even if the rationalizations I keep telling myself about why it's not good for me may not all be supported by the data, the most important data is my heart and it says no. Sorry, Jeremy. <3"
   ]
  },
  {
   "cell_type": "code",
   "execution_count": null,
   "metadata": {
    "collapsed": true
   },
   "outputs": [],
   "source": []
  }
 ],
 "metadata": {
  "anaconda-cloud": {},
  "kernelspec": {
   "display_name": "Python 3",
   "language": "python",
   "name": "python3"
  },
  "language_info": {
   "codemirror_mode": {
    "name": "ipython",
    "version": 3
   },
   "file_extension": ".py",
   "mimetype": "text/x-python",
   "name": "python",
   "nbconvert_exporter": "python",
   "pygments_lexer": "ipython3",
   "version": "3.5.5"
  }
 },
 "nbformat": 4,
 "nbformat_minor": 2
}
